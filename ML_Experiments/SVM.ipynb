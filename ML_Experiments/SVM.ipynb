{
 "cells": [
  {
   "cell_type": "code",
   "execution_count": 6,
   "id": "3f7941d0",
   "metadata": {},
   "outputs": [
    {
     "name": "stdout",
     "output_type": "stream",
     "text": [
      "Predicted: ['Iris-virginica' 'Iris-virginica' 'Iris-versicolor' 'Iris-virginica'\n",
      " 'Iris-virginica' 'Iris-setosa' 'Iris-versicolor' 'Iris-setosa'\n",
      " 'Iris-virginica' 'Iris-virginica' 'Iris-versicolor' 'Iris-versicolor'\n",
      " 'Iris-versicolor' 'Iris-versicolor' 'Iris-setosa' 'Iris-versicolor'\n",
      " 'Iris-versicolor' 'Iris-virginica' 'Iris-virginica' 'Iris-virginica'\n",
      " 'Iris-versicolor' 'Iris-setosa' 'Iris-setosa' 'Iris-versicolor'\n",
      " 'Iris-setosa' 'Iris-virginica' 'Iris-setosa' 'Iris-setosa' 'Iris-setosa'\n",
      " 'Iris-virginica' 'Iris-versicolor' 'Iris-setosa' 'Iris-virginica'\n",
      " 'Iris-virginica' 'Iris-versicolor' 'Iris-virginica' 'Iris-setosa'\n",
      " 'Iris-setosa' 'Iris-virginica' 'Iris-setosa' 'Iris-versicolor'\n",
      " 'Iris-virginica' 'Iris-versicolor' 'Iris-virginica' 'Iris-setosa']\n",
      "Actual: 108     Iris-virginica\n",
      "113     Iris-virginica\n",
      "71     Iris-versicolor\n",
      "122     Iris-virginica\n",
      "115     Iris-virginica\n",
      "2          Iris-setosa\n",
      "55     Iris-versicolor\n",
      "17         Iris-setosa\n",
      "143     Iris-virginica\n",
      "105     Iris-virginica\n",
      "74     Iris-versicolor\n",
      "78     Iris-versicolor\n",
      "76     Iris-versicolor\n",
      "73     Iris-versicolor\n",
      "20         Iris-setosa\n",
      "82     Iris-versicolor\n",
      "84     Iris-versicolor\n",
      "133     Iris-virginica\n",
      "70     Iris-versicolor\n",
      "148     Iris-virginica\n",
      "66     Iris-versicolor\n",
      "27         Iris-setosa\n",
      "7          Iris-setosa\n",
      "86     Iris-versicolor\n",
      "4          Iris-setosa\n",
      "144     Iris-virginica\n",
      "12         Iris-setosa\n",
      "36         Iris-setosa\n",
      "13         Iris-setosa\n",
      "139     Iris-virginica\n",
      "92     Iris-versicolor\n",
      "42         Iris-setosa\n",
      "142     Iris-virginica\n",
      "141     Iris-virginica\n",
      "53     Iris-versicolor\n",
      "129     Iris-virginica\n",
      "10         Iris-setosa\n",
      "34         Iris-setosa\n",
      "127     Iris-virginica\n",
      "19         Iris-setosa\n",
      "64     Iris-versicolor\n",
      "102     Iris-virginica\n",
      "91     Iris-versicolor\n",
      "109     Iris-virginica\n",
      "39         Iris-setosa\n",
      "Name: Species, dtype: object\n"
     ]
    }
   ],
   "source": [
    "import numpy as np\n",
    "import pandas as pd\n",
    "import matplotlib.pyplot as plt\n",
    "import seaborn as sns\n",
    "from sklearn.model_selection import train_test_split\n",
    "from sklearn.svm import SVC\n",
    "from sklearn.metrics import classification_report,confusion_matrix\n",
    "\n",
    "iris = pd.read_csv('IRIS_data.csv')\n",
    "\n",
    "x=iris_data.iloc[:,:-1]\n",
    "y=iris_data.iloc[:,4]\n",
    "\n",
    "x_train,x_test,y_train,y_test=train_test_split(x, y,test_size=0.3)\n",
    "\n",
    "model=SVC()\n",
    "model.fit(x_train, y_train)\n",
    "\n",
    "y_pred=model.predict(x_test)\n",
    "\n",
    "print('Predicted:',y_pred)\n",
    "print('Actual:',y_test)"
   ]
  },
  {
   "cell_type": "code",
   "execution_count": 7,
   "id": "b55fbf04",
   "metadata": {},
   "outputs": [
    {
     "name": "stdout",
     "output_type": "stream",
     "text": [
      "Confusion Matrix:\n"
     ]
    },
    {
     "data": {
      "image/png": "[encoded data removed]",
      "text/plain": [
       "<Figure size 360x288 with 2 Axes>"
      ]
     },
     "metadata": {
      "needs_background": "light"
     },
     "output_type": "display_data"
    }
   ],
   "source": [
    "cm=confusion_matrix(y_test,y_pred)\n",
    "print(\"Confusion Matrix:\")\n",
    "plt.figure(figsize=(5,4))\n",
    "sns.heatmap(cm, annot=True)\n",
    "plt.title('Confusion Matrix')\n",
    "plt.ylabel('Actal Values')\n",
    "plt.xlabel('Predicted Values')\n",
    "plt.show()"
   ]
  },
  {
   "cell_type": "code",
   "execution_count": 8,
   "id": "ba20eea4",
   "metadata": {},
   "outputs": [
    {
     "name": "stdout",
     "output_type": "stream",
     "text": [
      "Classification Report:\n",
      "\n",
      "                 precision    recall  f1-score   support\n",
      "\n",
      "    Iris-setosa       1.00      1.00      1.00        14\n",
      "Iris-versicolor       1.00      0.93      0.97        15\n",
      " Iris-virginica       0.94      1.00      0.97        16\n",
      "\n",
      "       accuracy                           0.98        45\n",
      "      macro avg       0.98      0.98      0.98        45\n",
      "   weighted avg       0.98      0.98      0.98        45\n",
      "\n"
     ]
    }
   ],
   "source": [
    "print('Classification Report:\\n')\n",
    "summary = classification_report(y_test, y_pred)\n",
    "print(summary)\n"
   ]
  },
  {
   "cell_type": "code",
   "execution_count": null,
   "id": "98fe4a5a",
   "metadata": {},
   "outputs": [],
   "source": []
  }
 ],
 "metadata": {
  "kernelspec": {
   "display_name": "Python 3",
   "language": "python",
   "name": "python3"
  },
  "language_info": {
   "codemirror_mode": {
    "name": "ipython",
    "version": 3
   },
   "file_extension": ".py",
   "mimetype": "text/x-python",
   "name": "python",
   "nbconvert_exporter": "python",
   "pygments_lexer": "ipython3",
   "version": "3.8.8"
  }
 },
 "nbformat": 4,
 "nbformat_minor": 5
}
