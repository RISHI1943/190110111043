{
 "cells": [
  {
   "cell_type": "code",
   "execution_count": 23,
   "id": "da4a03d7",
   "metadata": {},
   "outputs": [],
   "source": [
    "import pandas as pd\n",
    "import numpy as np\n",
    "import matplotlib.pyplot as plt\n",
    "import seaborn as sns\n",
    "from sklearn.linear_model import LinearRegression\n",
    "from sklearn.model_selection import train_test_split\n",
    "from sklearn.metrics import accuracy_score, recall_score, precision_score, f1_score, confusion_matrix\n",
    "from sklearn.metrics import classification_report\n"
   ]
  },
  {
   "cell_type": "code",
   "execution_count": 24,
   "id": "0b75352b",
   "metadata": {},
   "outputs": [
    {
     "name": "stdout",
     "output_type": "stream",
     "text": [
      "     SepalLengthCm  SepalWidthCm  PetalLengthCm  PetalWidthCm         Species\n",
      "0              5.1           3.5            1.4           0.2     Iris-setosa\n",
      "1              4.9           3.0            1.4           0.2     Iris-setosa\n",
      "2              4.7           3.2            1.3           0.2     Iris-setosa\n",
      "3              4.6           3.1            1.5           0.2     Iris-setosa\n",
      "4              5.0           3.6            1.4           0.2     Iris-setosa\n",
      "..             ...           ...            ...           ...             ...\n",
      "145            6.7           3.0            5.2           2.3  Iris-virginica\n",
      "146            6.3           2.5            5.0           1.9  Iris-virginica\n",
      "147            6.5           3.0            5.2           2.0  Iris-virginica\n",
      "148            6.2           3.4            5.4           2.3  Iris-virginica\n",
      "149            5.9           3.0            5.1           1.8  Iris-virginica\n",
      "\n",
      "[150 rows x 5 columns]\n"
     ]
    }
   ],
   "source": [
    "iris = pd.read_csv(r'IRIS_data.csv')\n",
    "print(iris)"
   ]
  },
  {
   "cell_type": "code",
   "execution_count": 25,
   "id": "cdd82ecd",
   "metadata": {},
   "outputs": [
    {
     "name": "stdout",
     "output_type": "stream",
     "text": [
      "Size of x:  (150, 4)\n",
      "Size of y:  (150,)\n"
     ]
    }
   ],
   "source": [
    "mapping = { \n",
    " 'Iris-setosa' : 1,\n",
    " 'Iris-versicolor' : 2,\n",
    " 'Iris-virginica' : 3\n",
    "}\n",
    "x = iris.drop(['Species'], axis=1).values#Input Feature Values\n",
    "y = iris.Species.replace(mapping).values # Output values\n",
    "print(\"Size of x: \",x.shape)\n",
    "print(\"Size of y: \",y.shape)\n"
   ]
  },
  {
   "cell_type": "code",
   "execution_count": 26,
   "id": "4cd68b7d",
   "metadata": {},
   "outputs": [
    {
     "name": "stdout",
     "output_type": "stream",
     "text": [
      "Size of x_train:  (105, 4)\n",
      "Size of x_test:  (45, 4)\n",
      "Size of y_train:  (105,)\n",
      "Size of y_test:  (45,)\n"
     ]
    }
   ],
   "source": [
    "x_train,x_test,y_train,y_test=train_test_split(x,y,test_size=0.3,random_state= 0)\n",
    "print(\"Size of x_train: \",x_train.shape)\n",
    "print(\"Size of x_test: \",x_test.shape)\n",
    "print(\"Size of y_train: \",y_train.shape)\n",
    "print(\"Size of y_test: \",y_test.shape)\n"
   ]
  },
  {
   "cell_type": "code",
   "execution_count": 27,
   "id": "d4964ae4",
   "metadata": {},
   "outputs": [
    {
     "name": "stdout",
     "output_type": "stream",
     "text": [
      "Actual:\n",
      " [3 2 1 3 1 3 1 2 2 2 3 2 2 2 2 1 2 2 1 1 3 2 1 1 3 1 1 2 2 1 3 2 1 3 3 2 1\n",
      " 2 2 2 3 1 3 1 1] \n",
      "\n",
      "Predicted:\n",
      " [3.07863376 1.96669898 0.84065941 2.82209546 0.96871345 3.29167009\n",
      " 0.96673386 2.30556458 2.26630691 2.10590682 2.61291114 2.29882172\n",
      " 2.24583575 2.31726102 2.35560867 0.93553118 2.37252277 2.26780932\n",
      " 1.03810685 0.94698243 2.83345137 2.43872911 1.11461187 1.05223725\n",
      " 2.59172014 0.8932231  1.16770375 2.17090695 1.93927314 1.10832465\n",
      " 2.74781133 2.47276913 0.93279976 2.6329574  3.00469015 2.28881924\n",
      " 0.95383121 2.59988104 2.30377528 2.10489089 2.84907488 0.96759161\n",
      " 2.82996938 1.21809757 0.8950124 ]\n"
     ]
    }
   ],
   "source": [
    "lr = LinearRegression()\n",
    "lr.fit(x_train,y_train)\n",
    "y_pred = lr.predict(x_test)\n",
    "print(\"Actual:\\n\",y_test,\"\\n\")\n",
    "print(\"Predicted:\\n\",y_pred)\n"
   ]
  },
  {
   "cell_type": "code",
   "execution_count": 28,
   "id": "ec768755",
   "metadata": {},
   "outputs": [
    {
     "data": {
      "image/png": "[encoded data removed]",
      "text/plain": [
       "<Figure size 432x288 with 1 Axes>"
      ]
     },
     "metadata": {
      "needs_background": "light"
     },
     "output_type": "display_data"
    }
   ],
   "source": [
    "#Plotting the Actual vs Predicted\n",
    "plt.scatter(y_test,y_pred)\n",
    "plt.xlabel('Actual')\n",
    "plt.ylabel('Predicted')\n",
    "plt.title('Actual vs Predicted')\n",
    "plt.show()\n"
   ]
  },
  {
   "cell_type": "code",
   "execution_count": null,
   "id": "5261af9d",
   "metadata": {},
   "outputs": [],
   "source": [
    "cm = confusion_matrix(y_test, y_pred)\n",
    "cm_df = pd.DataFrame(cm,index = ['SETOSA','VERSICOLR','VIRGINICA'],columns = ['SETOSA','VERSICOLR','VIRGINICA'])\n",
    "#Plotting the confusion matrix\n",
    "plt.figure(figsize=(5,4))\n",
    "sns.heatmap(cm_df, annot=True)\n",
    "plt.title('Confusion Matrix')\n",
    "plt.ylabel('Actal Values')\n",
    "plt.xlabel('Predicted Values')\n",
    "plt.show()"
   ]
  },
  {
   "cell_type": "code",
   "execution_count": null,
   "id": "32ebb833",
   "metadata": {},
   "outputs": [],
   "source": [
    "print(\"Accuracy: \",accuracy_score(y_test,y_pred)*100)\n",
    "print(\"Precision: \",precision_score(y_test, y_pred, average=None))\n",
    "print(\"Recall: \",recall_score(y_test, y_pred, average=None))\n",
    "print(\"F-1 Score:\",f1_score(y_test, y_pred, average=None))\n",
    "print(\"\\nSummary:\\n\",classification_report(y_test, y_pred))"
   ]
  }
 ],
 "metadata": {
  "kernelspec": {
   "display_name": "Python 3",
   "language": "python",
   "name": "python3"
  },
  "language_info": {
   "codemirror_mode": {
    "name": "ipython",
    "version": 3
   },
   "file_extension": ".py",
   "mimetype": "text/x-python",
   "name": "python",
   "nbconvert_exporter": "python",
   "pygments_lexer": "ipython3",
   "version": "3.8.8"
  }
 },
 "nbformat": 4,
 "nbformat_minor": 5
}
